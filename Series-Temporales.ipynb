{
 "cells": [
  {
   "cell_type": "markdown",
   "id": "37c52202",
   "metadata": {},
   "source": [
    "# *Modelos de Inteligencia Artificial para Series Temporales*\n",
    "\n",
    "Anny Álvarez Nogales\n",
    "Paula Arias Fernández"
   ]
  },
  {
   "cell_type": "code",
   "execution_count": null,
   "id": "59318f1e",
   "metadata": {},
   "outputs": [],
   "source": []
  },
  {
   "cell_type": "code",
   "execution_count": null,
   "id": "0c7d3656",
   "metadata": {},
   "outputs": [],
   "source": []
  },
  {
   "cell_type": "code",
   "execution_count": null,
   "id": "07658181",
   "metadata": {},
   "outputs": [],
   "source": []
  },
  {
   "cell_type": "code",
   "execution_count": null,
   "id": "f4892e6f",
   "metadata": {},
   "outputs": [],
   "source": []
  },
  {
   "cell_type": "code",
   "execution_count": null,
   "id": "83de4d78",
   "metadata": {},
   "outputs": [],
   "source": []
  },
  {
   "cell_type": "code",
   "execution_count": null,
   "id": "a88be31e",
   "metadata": {},
   "outputs": [],
   "source": []
  }
 ],
 "metadata": {
  "language_info": {
   "name": "python"
  }
 },
 "nbformat": 4,
 "nbformat_minor": 5
}
